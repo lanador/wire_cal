{
 "cells": [
  {
   "cell_type": "code",
   "execution_count": 15,
   "id": "f893ff79-9cfc-4c37-8798-d51000ee5e6c",
   "metadata": {},
   "outputs": [],
   "source": [
    "import numpy as np"
   ]
  },
  {
   "cell_type": "code",
   "execution_count": 16,
   "id": "f238a381-d284-4c09-afee-3ff12cb3a36f",
   "metadata": {},
   "outputs": [
    {
     "data": {
      "text/plain": [
       "8.65697105538783"
      ]
     },
     "execution_count": 16,
     "metadata": {},
     "output_type": "execute_result"
    }
   ],
   "source": [
    "# Given values \n",
    "voltage = 84 # in Volts \n",
    "resistance_per_ft = 0.663  \n",
    "length_feet_110 = 110 \n",
    "length_meters_110ft = length_feet_110 * 0.3048  \n",
    "total_resistance_110ft = resistance_per_ft * length_feet_110 \n",
    "current_110ft = voltage / total_resistance_110ft  \n",
    "power_dissipated_110ft = current_110ft**2 * total_resistance_110ft\n",
    "power_per_meter = power_dissipated_110ft / length_meters_110ft \n",
    "power_meter_conduit = power_per_meter * 3\n",
    "power_meter_conduit"
   ]
  },
  {
   "cell_type": "code",
   "execution_count": 17,
   "id": "2c677c58-596c-4e17-9c6b-f38cb96b31d7",
   "metadata": {},
   "outputs": [
    {
     "data": {
      "text/plain": [
       "1.1517893870835045"
      ]
     },
     "execution_count": 17,
     "metadata": {},
     "output_type": "execute_result"
    }
   ],
   "source": [
    "current_110ft"
   ]
  },
  {
   "cell_type": "code",
   "execution_count": 18,
   "id": "c33cfcc6-8b6b-46c0-8da4-930dd3ac9d64",
   "metadata": {},
   "outputs": [
    {
     "data": {
      "text/plain": [
       "44.13843133006361"
      ]
     },
     "execution_count": 18,
     "metadata": {},
     "output_type": "execute_result"
    }
   ],
   "source": [
    "voltage = 84  \n",
    "power =  power_meter_conduit * 33\n",
    "time_seconds = 10\n",
    "resistance_per_ft = 0.663\n",
    "length_meters = 33\n",
    "length_feet = length_meters * 3.281\n",
    "specific_heat_capacity = 450 # J/kg·K\n",
    "density_nichrome = 8400  # kg/m^3\n",
    "diameter_inches = 0.032\n",
    "resistivity_nichrome = 1.10e-6\n",
    "diameter_meters = diameter_inches * 0.0254\n",
    "cross_sectional_area = np.pi * (diameter_meters / 2) ** 2\n",
    "total_resistance = resistance_per_ft * length_feet\n",
    "\n",
    "energy_dissipated = power * time_seconds\n",
    "\n",
    "volume_wire = cross_sectional_area * length_meters\n",
    "\n",
    "mass_wire = volume_wire * density_nichrome\n",
    "\n",
    "# delT = Q / (m * c)\n",
    "temperature_increase = energy_dissipated / (mass_wire * specific_heat_capacity)\n",
    "\n",
    "temperature_increase"
   ]
  },
  {
   "cell_type": "code",
   "execution_count": 19,
   "id": "59f22a2d-80dd-4f34-a600-635c587b3820",
   "metadata": {},
   "outputs": [
    {
     "data": {
      "text/plain": [
       "(3858.16237414966, 64.30270623582767)"
      ]
     },
     "execution_count": 19,
     "metadata": {},
     "output_type": "execute_result"
    }
   ],
   "source": [
    "ice_latent_heat = 334 #J/g\n",
    "ice_mass = 100 #g\n",
    "\n",
    "energy_to_melt = ice_mass * ice_latent_heat\n",
    "\n",
    "time_needed_meter = energy_to_melt / power_meter_conduit\n",
    "time_needed_min = time_needed_meter / 60\n",
    "time_needed_meter, time_needed_min\n",
    "\n"
   ]
  }
 ],
 "metadata": {
  "kernelspec": {
   "display_name": "Python 3 (ipykernel)",
   "language": "python",
   "name": "python3"
  },
  "language_info": {
   "codemirror_mode": {
    "name": "ipython",
    "version": 3
   },
   "file_extension": ".py",
   "mimetype": "text/x-python",
   "name": "python",
   "nbconvert_exporter": "python",
   "pygments_lexer": "ipython3",
   "version": "3.10.12"
  }
 },
 "nbformat": 4,
 "nbformat_minor": 5
}
